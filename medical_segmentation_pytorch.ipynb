{
  "nbformat": 4,
  "nbformat_minor": 0,
  "metadata": {
    "colab": {
      "name": "medical_segmentation_pytorch.ipynb",
      "provenance": [],
      "collapsed_sections": [],
      "authorship_tag": "ABX9TyM55yxKh3tWciTpUWUGHCos",
      "include_colab_link": true
    },
    "kernelspec": {
      "name": "python3",
      "display_name": "Python 3"
    },
    "language_info": {
      "name": "python"
    },
    "accelerator": "GPU"
  },
  "cells": [
    {
      "cell_type": "markdown",
      "metadata": {
        "id": "view-in-github",
        "colab_type": "text"
      },
      "source": [
        "<a href=\"https://colab.research.google.com/github/alecbidaran/Chest-CTs-image-segmentation-with-UNET/blob/main/medical_segmentation_pytorch.ipynb\" target=\"_parent\"><img src=\"https://colab.research.google.com/assets/colab-badge.svg\" alt=\"Open In Colab\"/></a>"
      ]
    },
    {
      "cell_type": "code",
      "metadata": {
        "id": "AwAaEGDn3LXJ",
        "colab": {
          "base_uri": "https://localhost:8080/"
        },
        "outputId": "405e1f7b-f349-48da-e4a7-9a4fd8d904d2"
      },
      "source": [
        "!pip install -q kaggle\n",
        "!pip install jupyter-dash"
      ],
      "execution_count": null,
      "outputs": [
        {
          "output_type": "stream",
          "name": "stdout",
          "text": [
            "Looking in indexes: https://pypi.org/simple, https://us-python.pkg.dev/colab-wheels/public/simple/\n",
            "Requirement already satisfied: jupyter-dash in /usr/local/lib/python3.7/dist-packages (0.4.2)\n",
            "Requirement already satisfied: ipykernel in /usr/local/lib/python3.7/dist-packages (from jupyter-dash) (4.10.1)\n",
            "Requirement already satisfied: nest-asyncio in /usr/local/lib/python3.7/dist-packages (from jupyter-dash) (1.5.5)\n",
            "Requirement already satisfied: ansi2html in /usr/local/lib/python3.7/dist-packages (from jupyter-dash) (1.8.0)\n",
            "Requirement already satisfied: retrying in /usr/local/lib/python3.7/dist-packages (from jupyter-dash) (1.3.3)\n",
            "Requirement already satisfied: dash in /usr/local/lib/python3.7/dist-packages (from jupyter-dash) (2.5.1)\n",
            "Requirement already satisfied: flask in /usr/local/lib/python3.7/dist-packages (from jupyter-dash) (1.1.4)\n",
            "Requirement already satisfied: ipython in /usr/local/lib/python3.7/dist-packages (from jupyter-dash) (5.5.0)\n",
            "Requirement already satisfied: requests in /usr/local/lib/python3.7/dist-packages (from jupyter-dash) (2.23.0)\n",
            "Requirement already satisfied: importlib-metadata in /usr/local/lib/python3.7/dist-packages (from ansi2html->jupyter-dash) (4.11.4)\n",
            "Requirement already satisfied: dash-html-components==2.0.0 in /usr/local/lib/python3.7/dist-packages (from dash->jupyter-dash) (2.0.0)\n",
            "Requirement already satisfied: plotly>=5.0.0 in /usr/local/lib/python3.7/dist-packages (from dash->jupyter-dash) (5.5.0)\n",
            "Requirement already satisfied: flask-compress in /usr/local/lib/python3.7/dist-packages (from dash->jupyter-dash) (1.12)\n",
            "Requirement already satisfied: dash-core-components==2.0.0 in /usr/local/lib/python3.7/dist-packages (from dash->jupyter-dash) (2.0.0)\n",
            "Requirement already satisfied: dash-table==5.0.0 in /usr/local/lib/python3.7/dist-packages (from dash->jupyter-dash) (5.0.0)\n",
            "Requirement already satisfied: Werkzeug<2.0,>=0.15 in /usr/local/lib/python3.7/dist-packages (from flask->jupyter-dash) (1.0.1)\n",
            "Requirement already satisfied: click<8.0,>=5.1 in /usr/local/lib/python3.7/dist-packages (from flask->jupyter-dash) (7.1.2)\n",
            "Requirement already satisfied: Jinja2<3.0,>=2.10.1 in /usr/local/lib/python3.7/dist-packages (from flask->jupyter-dash) (2.11.3)\n",
            "Requirement already satisfied: itsdangerous<2.0,>=0.24 in /usr/local/lib/python3.7/dist-packages (from flask->jupyter-dash) (1.1.0)\n",
            "Requirement already satisfied: MarkupSafe>=0.23 in /usr/local/lib/python3.7/dist-packages (from Jinja2<3.0,>=2.10.1->flask->jupyter-dash) (2.0.1)\n",
            "Requirement already satisfied: tenacity>=6.2.0 in /usr/local/lib/python3.7/dist-packages (from plotly>=5.0.0->dash->jupyter-dash) (8.0.1)\n",
            "Requirement already satisfied: six in /usr/local/lib/python3.7/dist-packages (from plotly>=5.0.0->dash->jupyter-dash) (1.15.0)\n",
            "Requirement already satisfied: brotli in /usr/local/lib/python3.7/dist-packages (from flask-compress->dash->jupyter-dash) (1.0.9)\n",
            "Requirement already satisfied: zipp>=0.5 in /usr/local/lib/python3.7/dist-packages (from importlib-metadata->ansi2html->jupyter-dash) (3.8.0)\n",
            "Requirement already satisfied: typing-extensions>=3.6.4 in /usr/local/lib/python3.7/dist-packages (from importlib-metadata->ansi2html->jupyter-dash) (4.1.1)\n",
            "Requirement already satisfied: traitlets>=4.1.0 in /usr/local/lib/python3.7/dist-packages (from ipykernel->jupyter-dash) (5.1.1)\n",
            "Requirement already satisfied: jupyter-client in /usr/local/lib/python3.7/dist-packages (from ipykernel->jupyter-dash) (5.3.5)\n",
            "Requirement already satisfied: tornado>=4.0 in /usr/local/lib/python3.7/dist-packages (from ipykernel->jupyter-dash) (5.1.1)\n",
            "Requirement already satisfied: pexpect in /usr/local/lib/python3.7/dist-packages (from ipython->jupyter-dash) (4.8.0)\n",
            "Requirement already satisfied: pickleshare in /usr/local/lib/python3.7/dist-packages (from ipython->jupyter-dash) (0.7.5)\n",
            "Requirement already satisfied: pygments in /usr/local/lib/python3.7/dist-packages (from ipython->jupyter-dash) (2.6.1)\n",
            "Requirement already satisfied: simplegeneric>0.8 in /usr/local/lib/python3.7/dist-packages (from ipython->jupyter-dash) (0.8.1)\n",
            "Requirement already satisfied: decorator in /usr/local/lib/python3.7/dist-packages (from ipython->jupyter-dash) (4.4.2)\n",
            "Requirement already satisfied: prompt-toolkit<2.0.0,>=1.0.4 in /usr/local/lib/python3.7/dist-packages (from ipython->jupyter-dash) (1.0.18)\n",
            "Requirement already satisfied: setuptools>=18.5 in /usr/local/lib/python3.7/dist-packages (from ipython->jupyter-dash) (57.4.0)\n",
            "Requirement already satisfied: wcwidth in /usr/local/lib/python3.7/dist-packages (from prompt-toolkit<2.0.0,>=1.0.4->ipython->jupyter-dash) (0.2.5)\n",
            "Requirement already satisfied: jupyter-core>=4.6.0 in /usr/local/lib/python3.7/dist-packages (from jupyter-client->ipykernel->jupyter-dash) (4.10.0)\n",
            "Requirement already satisfied: pyzmq>=13 in /usr/local/lib/python3.7/dist-packages (from jupyter-client->ipykernel->jupyter-dash) (23.1.0)\n",
            "Requirement already satisfied: python-dateutil>=2.1 in /usr/local/lib/python3.7/dist-packages (from jupyter-client->ipykernel->jupyter-dash) (2.8.2)\n",
            "Requirement already satisfied: ptyprocess>=0.5 in /usr/local/lib/python3.7/dist-packages (from pexpect->ipython->jupyter-dash) (0.7.0)\n",
            "Requirement already satisfied: idna<3,>=2.5 in /usr/local/lib/python3.7/dist-packages (from requests->jupyter-dash) (2.10)\n",
            "Requirement already satisfied: chardet<4,>=3.0.2 in /usr/local/lib/python3.7/dist-packages (from requests->jupyter-dash) (3.0.4)\n",
            "Requirement already satisfied: urllib3!=1.25.0,!=1.25.1,<1.26,>=1.21.1 in /usr/local/lib/python3.7/dist-packages (from requests->jupyter-dash) (1.24.3)\n",
            "Requirement already satisfied: certifi>=2017.4.17 in /usr/local/lib/python3.7/dist-packages (from requests->jupyter-dash) (2022.6.15)\n"
          ]
        }
      ]
    },
    {
      "cell_type": "code",
      "metadata": {
        "id": "n0Ez-VQD3k5i"
      },
      "source": [
        "! mkdir ~/.kaggle"
      ],
      "execution_count": null,
      "outputs": []
    },
    {
      "cell_type": "code",
      "metadata": {
        "id": "tGJXlNHI3n8K"
      },
      "source": [
        "! cp kaggle.json ~/.kaggle/\n",
        "\n",
        "! chmod 600 ~/.kaggle/kaggle.json"
      ],
      "execution_count": null,
      "outputs": []
    },
    {
      "cell_type": "code",
      "metadata": {
        "colab": {
          "base_uri": "https://localhost:8080/"
        },
        "id": "0_64kE-p38Il",
        "outputId": "e1abe170-44b3-4e44-cad5-e8c3885886bb"
      },
      "source": [
        "! kaggle datasets download -d andrewmvd/covid19-ct-scans\n",
        "!unzip covid19-ct-scans.zip\n",
        "!rm covid19-ct-scans.zip"
      ],
      "execution_count": null,
      "outputs": [
        {
          "output_type": "stream",
          "name": "stdout",
          "text": [
            "Downloading covid19-ct-scans.zip to /content\n",
            " 99% 1.03G/1.03G [00:06<00:00, 210MB/s]\n",
            "100% 1.03G/1.03G [00:06<00:00, 167MB/s]\n",
            "Archive:  covid19-ct-scans.zip\n",
            "  inflating: ct_scans/coronacases_org_001.nii  \n",
            "  inflating: ct_scans/coronacases_org_002.nii  \n",
            "  inflating: ct_scans/coronacases_org_003.nii  \n",
            "  inflating: ct_scans/coronacases_org_004.nii  \n",
            "  inflating: ct_scans/coronacases_org_005.nii  \n",
            "  inflating: ct_scans/coronacases_org_006.nii  \n",
            "  inflating: ct_scans/coronacases_org_007.nii  \n",
            "  inflating: ct_scans/coronacases_org_008.nii  \n",
            "  inflating: ct_scans/coronacases_org_009.nii  \n",
            "  inflating: ct_scans/coronacases_org_010.nii  \n",
            "  inflating: ct_scans/radiopaedia_org_covid-19-pneumonia-10_85902_1-dcm.nii  \n",
            "  inflating: ct_scans/radiopaedia_org_covid-19-pneumonia-10_85902_3-dcm.nii  \n",
            "  inflating: ct_scans/radiopaedia_org_covid-19-pneumonia-14_85914_0-dcm.nii  \n",
            "  inflating: ct_scans/radiopaedia_org_covid-19-pneumonia-27_86410_0-dcm.nii  \n",
            "  inflating: ct_scans/radiopaedia_org_covid-19-pneumonia-29_86490_1-dcm.nii  \n",
            "  inflating: ct_scans/radiopaedia_org_covid-19-pneumonia-29_86491_1-dcm.nii  \n",
            "  inflating: ct_scans/radiopaedia_org_covid-19-pneumonia-36_86526_0-dcm.nii  \n",
            "  inflating: ct_scans/radiopaedia_org_covid-19-pneumonia-40_86625_0-dcm.nii  \n",
            "  inflating: ct_scans/radiopaedia_org_covid-19-pneumonia-4_85506_1-dcm.nii  \n",
            "  inflating: ct_scans/radiopaedia_org_covid-19-pneumonia-7_85703_0-dcm.nii  \n",
            "  inflating: infection_mask/coronacases_001.nii  \n",
            "  inflating: infection_mask/coronacases_002.nii  \n",
            "  inflating: infection_mask/coronacases_003.nii  \n",
            "  inflating: infection_mask/coronacases_004.nii  \n",
            "  inflating: infection_mask/coronacases_005.nii  \n",
            "  inflating: infection_mask/coronacases_006.nii  \n",
            "  inflating: infection_mask/coronacases_007.nii  \n",
            "  inflating: infection_mask/coronacases_008.nii  \n",
            "  inflating: infection_mask/coronacases_009.nii  \n",
            "  inflating: infection_mask/coronacases_010.nii  \n",
            "  inflating: infection_mask/radiopaedia_10_85902_1.nii  \n",
            "  inflating: infection_mask/radiopaedia_10_85902_3.nii  \n",
            "  inflating: infection_mask/radiopaedia_14_85914_0.nii  \n",
            "  inflating: infection_mask/radiopaedia_27_86410_0.nii  \n",
            "  inflating: infection_mask/radiopaedia_29_86490_1.nii  \n",
            "  inflating: infection_mask/radiopaedia_29_86491_1.nii  \n",
            "  inflating: infection_mask/radiopaedia_36_86526_0.nii  \n",
            "  inflating: infection_mask/radiopaedia_40_86625_0.nii  \n",
            "  inflating: infection_mask/radiopaedia_4_85506_1.nii  \n",
            "  inflating: infection_mask/radiopaedia_7_85703_0.nii  \n",
            "  inflating: lung_and_infection_mask/coronacases_001.nii  \n",
            "  inflating: lung_and_infection_mask/coronacases_002.nii  \n",
            "  inflating: lung_and_infection_mask/coronacases_003.nii  \n",
            "  inflating: lung_and_infection_mask/coronacases_004.nii  \n",
            "  inflating: lung_and_infection_mask/coronacases_005.nii  \n",
            "  inflating: lung_and_infection_mask/coronacases_006.nii  \n",
            "  inflating: lung_and_infection_mask/coronacases_007.nii  \n",
            "  inflating: lung_and_infection_mask/coronacases_008.nii  \n",
            "  inflating: lung_and_infection_mask/coronacases_009.nii  \n",
            "  inflating: lung_and_infection_mask/coronacases_010.nii  \n",
            "  inflating: lung_and_infection_mask/radiopaedia_10_85902_1.nii  \n",
            "  inflating: lung_and_infection_mask/radiopaedia_10_85902_3.nii  \n",
            "  inflating: lung_and_infection_mask/radiopaedia_14_85914_0.nii  \n",
            "  inflating: lung_and_infection_mask/radiopaedia_27_86410_0.nii  \n",
            "  inflating: lung_and_infection_mask/radiopaedia_29_86490_1.nii  \n",
            "  inflating: lung_and_infection_mask/radiopaedia_29_86491_1.nii  \n",
            "  inflating: lung_and_infection_mask/radiopaedia_36_86526_0.nii  \n",
            "  inflating: lung_and_infection_mask/radiopaedia_40_86625_0.nii  \n",
            "  inflating: lung_and_infection_mask/radiopaedia_4_85506_1.nii  \n",
            "  inflating: lung_and_infection_mask/radiopaedia_7_85703_0.nii  \n",
            "  inflating: lung_mask/coronacases_001.nii  \n",
            "  inflating: lung_mask/coronacases_002.nii  \n",
            "  inflating: lung_mask/coronacases_003.nii  \n",
            "  inflating: lung_mask/coronacases_004.nii  \n",
            "  inflating: lung_mask/coronacases_005.nii  \n",
            "  inflating: lung_mask/coronacases_006.nii  \n",
            "  inflating: lung_mask/coronacases_007.nii  \n",
            "  inflating: lung_mask/coronacases_008.nii  \n",
            "  inflating: lung_mask/coronacases_009.nii  \n",
            "  inflating: lung_mask/coronacases_010.nii  \n",
            "  inflating: lung_mask/radiopaedia_10_85902_1.nii  \n",
            "  inflating: lung_mask/radiopaedia_10_85902_3.nii  \n",
            "  inflating: lung_mask/radiopaedia_14_85914_0.nii  \n",
            "  inflating: lung_mask/radiopaedia_27_86410_0.nii  \n",
            "  inflating: lung_mask/radiopaedia_29_86490_1.nii  \n",
            "  inflating: lung_mask/radiopaedia_29_86491_1.nii  \n",
            "  inflating: lung_mask/radiopaedia_36_86526_0.nii  \n",
            "  inflating: lung_mask/radiopaedia_40_86625_0.nii  \n",
            "  inflating: lung_mask/radiopaedia_4_85506_1.nii  \n",
            "  inflating: lung_mask/radiopaedia_7_85703_0.nii  \n",
            "  inflating: metadata.csv            \n"
          ]
        }
      ]
    },
    {
      "cell_type": "code",
      "metadata": {
        "colab": {
          "base_uri": "https://localhost:8080/"
        },
        "id": "u-5YvjdS4OOp",
        "outputId": "33cc6772-b8f8-480f-8172-1a7fef81145a"
      },
      "source": [
        "!pip install -q torch_snippets pytorch_model_summary"
      ],
      "execution_count": null,
      "outputs": [
        {
          "output_type": "stream",
          "name": "stdout",
          "text": [
            "\u001b[K     |████████████████████████████████| 49 kB 2.9 MB/s \n",
            "\u001b[K     |████████████████████████████████| 235 kB 10.1 MB/s \n",
            "\u001b[K     |████████████████████████████████| 78 kB 9.1 MB/s \n",
            "\u001b[K     |████████████████████████████████| 948 kB 58.6 MB/s \n",
            "\u001b[K     |████████████████████████████████| 58 kB 6.8 MB/s \n",
            "\u001b[K     |████████████████████████████████| 51 kB 8.4 MB/s \n",
            "\u001b[?25h  Building wheel for typing (setup.py) ... \u001b[?25l\u001b[?25hdone\n",
            "\u001b[31mERROR: pip's dependency resolver does not currently take into account all the packages that are installed. This behaviour is the source of the following dependency conflicts.\n",
            "albumentations 0.1.12 requires imgaug<0.2.7,>=0.2.5, but you have imgaug 0.4.0 which is incompatible.\u001b[0m\n"
          ]
        }
      ]
    },
    {
      "cell_type": "code",
      "metadata": {
        "id": "HPEw-AlC3_iN"
      },
      "source": [
        "from torch_snippets import *\n",
        "from torchvision import transforms\n",
        "from sklearn.model_selection import train_test_split\n",
        "device = 'cuda' if torch.cuda.is_available() else 'cpu'\n",
        "import cv2 \n",
        "import numpy as np \n",
        "import pandas as pd \n",
        "import nibabel as nib\n"
      ],
      "execution_count": null,
      "outputs": []
    },
    {
      "cell_type": "code",
      "metadata": {
        "id": "sr5-UFXl4nLP"
      },
      "source": [
        "def read_ct(path):\n",
        "  image=nib.load(path)\n",
        "  array=image.get_fdata()\n",
        "  array=np.rot90(np.array(array,dtype=np.float32))\n",
        "  return array"
      ],
      "execution_count": null,
      "outputs": []
    },
    {
      "cell_type": "code",
      "metadata": {
        "colab": {
          "base_uri": "https://localhost:8080/",
          "height": 1000
        },
        "id": "3a8LKjQG5QaA",
        "outputId": "30bbdd40-c51a-4678-e44c-f25cc0ac4124"
      },
      "source": [
        "data=pd.read_csv(\"metadata.csv\")\n",
        "data"
      ],
      "execution_count": null,
      "outputs": [
        {
          "output_type": "execute_result",
          "data": {
            "text/plain": [
              "                                              ct_scan  \\\n",
              "0   ../input/covid19-ct-scans/ct_scans/coronacases...   \n",
              "1   ../input/covid19-ct-scans/ct_scans/coronacases...   \n",
              "2   ../input/covid19-ct-scans/ct_scans/coronacases...   \n",
              "3   ../input/covid19-ct-scans/ct_scans/coronacases...   \n",
              "4   ../input/covid19-ct-scans/ct_scans/coronacases...   \n",
              "5   ../input/covid19-ct-scans/ct_scans/coronacases...   \n",
              "6   ../input/covid19-ct-scans/ct_scans/coronacases...   \n",
              "7   ../input/covid19-ct-scans/ct_scans/coronacases...   \n",
              "8   ../input/covid19-ct-scans/ct_scans/coronacases...   \n",
              "9   ../input/covid19-ct-scans/ct_scans/coronacases...   \n",
              "10  ../input/covid19-ct-scans/ct_scans/radiopaedia...   \n",
              "11  ../input/covid19-ct-scans/ct_scans/radiopaedia...   \n",
              "12  ../input/covid19-ct-scans/ct_scans/radiopaedia...   \n",
              "13  ../input/covid19-ct-scans/ct_scans/radiopaedia...   \n",
              "14  ../input/covid19-ct-scans/ct_scans/radiopaedia...   \n",
              "15  ../input/covid19-ct-scans/ct_scans/radiopaedia...   \n",
              "16  ../input/covid19-ct-scans/ct_scans/radiopaedia...   \n",
              "17  ../input/covid19-ct-scans/ct_scans/radiopaedia...   \n",
              "18  ../input/covid19-ct-scans/ct_scans/radiopaedia...   \n",
              "19  ../input/covid19-ct-scans/ct_scans/radiopaedia...   \n",
              "\n",
              "                                            lung_mask  \\\n",
              "0   ../input/covid19-ct-scans/lung_mask/coronacase...   \n",
              "1   ../input/covid19-ct-scans/lung_mask/coronacase...   \n",
              "2   ../input/covid19-ct-scans/lung_mask/coronacase...   \n",
              "3   ../input/covid19-ct-scans/lung_mask/coronacase...   \n",
              "4   ../input/covid19-ct-scans/lung_mask/coronacase...   \n",
              "5   ../input/covid19-ct-scans/lung_mask/coronacase...   \n",
              "6   ../input/covid19-ct-scans/lung_mask/coronacase...   \n",
              "7   ../input/covid19-ct-scans/lung_mask/coronacase...   \n",
              "8   ../input/covid19-ct-scans/lung_mask/coronacase...   \n",
              "9   ../input/covid19-ct-scans/lung_mask/coronacase...   \n",
              "10  ../input/covid19-ct-scans/lung_mask/radiopaedi...   \n",
              "11  ../input/covid19-ct-scans/lung_mask/radiopaedi...   \n",
              "12  ../input/covid19-ct-scans/lung_mask/radiopaedi...   \n",
              "13  ../input/covid19-ct-scans/lung_mask/radiopaedi...   \n",
              "14  ../input/covid19-ct-scans/lung_mask/radiopaedi...   \n",
              "15  ../input/covid19-ct-scans/lung_mask/radiopaedi...   \n",
              "16  ../input/covid19-ct-scans/lung_mask/radiopaedi...   \n",
              "17  ../input/covid19-ct-scans/lung_mask/radiopaedi...   \n",
              "18  ../input/covid19-ct-scans/lung_mask/radiopaedi...   \n",
              "19  ../input/covid19-ct-scans/lung_mask/radiopaedi...   \n",
              "\n",
              "                                       infection_mask  \\\n",
              "0   ../input/covid19-ct-scans/infection_mask/coron...   \n",
              "1   ../input/covid19-ct-scans/infection_mask/coron...   \n",
              "2   ../input/covid19-ct-scans/infection_mask/coron...   \n",
              "3   ../input/covid19-ct-scans/infection_mask/coron...   \n",
              "4   ../input/covid19-ct-scans/infection_mask/coron...   \n",
              "5   ../input/covid19-ct-scans/infection_mask/coron...   \n",
              "6   ../input/covid19-ct-scans/infection_mask/coron...   \n",
              "7   ../input/covid19-ct-scans/infection_mask/coron...   \n",
              "8   ../input/covid19-ct-scans/infection_mask/coron...   \n",
              "9   ../input/covid19-ct-scans/infection_mask/coron...   \n",
              "10  ../input/covid19-ct-scans/infection_mask/radio...   \n",
              "11  ../input/covid19-ct-scans/infection_mask/radio...   \n",
              "12  ../input/covid19-ct-scans/infection_mask/radio...   \n",
              "13  ../input/covid19-ct-scans/infection_mask/radio...   \n",
              "14  ../input/covid19-ct-scans/infection_mask/radio...   \n",
              "15  ../input/covid19-ct-scans/infection_mask/radio...   \n",
              "16  ../input/covid19-ct-scans/infection_mask/radio...   \n",
              "17  ../input/covid19-ct-scans/infection_mask/radio...   \n",
              "18  ../input/covid19-ct-scans/infection_mask/radio...   \n",
              "19  ../input/covid19-ct-scans/infection_mask/radio...   \n",
              "\n",
              "                              lung_and_infection_mask  \n",
              "0   ../input/covid19-ct-scans/lung_and_infection_m...  \n",
              "1   ../input/covid19-ct-scans/lung_and_infection_m...  \n",
              "2   ../input/covid19-ct-scans/lung_and_infection_m...  \n",
              "3   ../input/covid19-ct-scans/lung_and_infection_m...  \n",
              "4   ../input/covid19-ct-scans/lung_and_infection_m...  \n",
              "5   ../input/covid19-ct-scans/lung_and_infection_m...  \n",
              "6   ../input/covid19-ct-scans/lung_and_infection_m...  \n",
              "7   ../input/covid19-ct-scans/lung_and_infection_m...  \n",
              "8   ../input/covid19-ct-scans/lung_and_infection_m...  \n",
              "9   ../input/covid19-ct-scans/lung_and_infection_m...  \n",
              "10  ../input/covid19-ct-scans/lung_and_infection_m...  \n",
              "11  ../input/covid19-ct-scans/lung_and_infection_m...  \n",
              "12  ../input/covid19-ct-scans/lung_and_infection_m...  \n",
              "13  ../input/covid19-ct-scans/lung_and_infection_m...  \n",
              "14  ../input/covid19-ct-scans/lung_and_infection_m...  \n",
              "15  ../input/covid19-ct-scans/lung_and_infection_m...  \n",
              "16  ../input/covid19-ct-scans/lung_and_infection_m...  \n",
              "17  ../input/covid19-ct-scans/lung_and_infection_m...  \n",
              "18  ../input/covid19-ct-scans/lung_and_infection_m...  \n",
              "19  ../input/covid19-ct-scans/lung_and_infection_m...  "
            ],
            "text/html": [
              "\n",
              "  <div id=\"df-5c3bf0e6-65e6-424f-9922-908db6ab257f\">\n",
              "    <div class=\"colab-df-container\">\n",
              "      <div>\n",
              "<style scoped>\n",
              "    .dataframe tbody tr th:only-of-type {\n",
              "        vertical-align: middle;\n",
              "    }\n",
              "\n",
              "    .dataframe tbody tr th {\n",
              "        vertical-align: top;\n",
              "    }\n",
              "\n",
              "    .dataframe thead th {\n",
              "        text-align: right;\n",
              "    }\n",
              "</style>\n",
              "<table border=\"1\" class=\"dataframe\">\n",
              "  <thead>\n",
              "    <tr style=\"text-align: right;\">\n",
              "      <th></th>\n",
              "      <th>ct_scan</th>\n",
              "      <th>lung_mask</th>\n",
              "      <th>infection_mask</th>\n",
              "      <th>lung_and_infection_mask</th>\n",
              "    </tr>\n",
              "  </thead>\n",
              "  <tbody>\n",
              "    <tr>\n",
              "      <th>0</th>\n",
              "      <td>../input/covid19-ct-scans/ct_scans/coronacases...</td>\n",
              "      <td>../input/covid19-ct-scans/lung_mask/coronacase...</td>\n",
              "      <td>../input/covid19-ct-scans/infection_mask/coron...</td>\n",
              "      <td>../input/covid19-ct-scans/lung_and_infection_m...</td>\n",
              "    </tr>\n",
              "    <tr>\n",
              "      <th>1</th>\n",
              "      <td>../input/covid19-ct-scans/ct_scans/coronacases...</td>\n",
              "      <td>../input/covid19-ct-scans/lung_mask/coronacase...</td>\n",
              "      <td>../input/covid19-ct-scans/infection_mask/coron...</td>\n",
              "      <td>../input/covid19-ct-scans/lung_and_infection_m...</td>\n",
              "    </tr>\n",
              "    <tr>\n",
              "      <th>2</th>\n",
              "      <td>../input/covid19-ct-scans/ct_scans/coronacases...</td>\n",
              "      <td>../input/covid19-ct-scans/lung_mask/coronacase...</td>\n",
              "      <td>../input/covid19-ct-scans/infection_mask/coron...</td>\n",
              "      <td>../input/covid19-ct-scans/lung_and_infection_m...</td>\n",
              "    </tr>\n",
              "    <tr>\n",
              "      <th>3</th>\n",
              "      <td>../input/covid19-ct-scans/ct_scans/coronacases...</td>\n",
              "      <td>../input/covid19-ct-scans/lung_mask/coronacase...</td>\n",
              "      <td>../input/covid19-ct-scans/infection_mask/coron...</td>\n",
              "      <td>../input/covid19-ct-scans/lung_and_infection_m...</td>\n",
              "    </tr>\n",
              "    <tr>\n",
              "      <th>4</th>\n",
              "      <td>../input/covid19-ct-scans/ct_scans/coronacases...</td>\n",
              "      <td>../input/covid19-ct-scans/lung_mask/coronacase...</td>\n",
              "      <td>../input/covid19-ct-scans/infection_mask/coron...</td>\n",
              "      <td>../input/covid19-ct-scans/lung_and_infection_m...</td>\n",
              "    </tr>\n",
              "    <tr>\n",
              "      <th>5</th>\n",
              "      <td>../input/covid19-ct-scans/ct_scans/coronacases...</td>\n",
              "      <td>../input/covid19-ct-scans/lung_mask/coronacase...</td>\n",
              "      <td>../input/covid19-ct-scans/infection_mask/coron...</td>\n",
              "      <td>../input/covid19-ct-scans/lung_and_infection_m...</td>\n",
              "    </tr>\n",
              "    <tr>\n",
              "      <th>6</th>\n",
              "      <td>../input/covid19-ct-scans/ct_scans/coronacases...</td>\n",
              "      <td>../input/covid19-ct-scans/lung_mask/coronacase...</td>\n",
              "      <td>../input/covid19-ct-scans/infection_mask/coron...</td>\n",
              "      <td>../input/covid19-ct-scans/lung_and_infection_m...</td>\n",
              "    </tr>\n",
              "    <tr>\n",
              "      <th>7</th>\n",
              "      <td>../input/covid19-ct-scans/ct_scans/coronacases...</td>\n",
              "      <td>../input/covid19-ct-scans/lung_mask/coronacase...</td>\n",
              "      <td>../input/covid19-ct-scans/infection_mask/coron...</td>\n",
              "      <td>../input/covid19-ct-scans/lung_and_infection_m...</td>\n",
              "    </tr>\n",
              "    <tr>\n",
              "      <th>8</th>\n",
              "      <td>../input/covid19-ct-scans/ct_scans/coronacases...</td>\n",
              "      <td>../input/covid19-ct-scans/lung_mask/coronacase...</td>\n",
              "      <td>../input/covid19-ct-scans/infection_mask/coron...</td>\n",
              "      <td>../input/covid19-ct-scans/lung_and_infection_m...</td>\n",
              "    </tr>\n",
              "    <tr>\n",
              "      <th>9</th>\n",
              "      <td>../input/covid19-ct-scans/ct_scans/coronacases...</td>\n",
              "      <td>../input/covid19-ct-scans/lung_mask/coronacase...</td>\n",
              "      <td>../input/covid19-ct-scans/infection_mask/coron...</td>\n",
              "      <td>../input/covid19-ct-scans/lung_and_infection_m...</td>\n",
              "    </tr>\n",
              "    <tr>\n",
              "      <th>10</th>\n",
              "      <td>../input/covid19-ct-scans/ct_scans/radiopaedia...</td>\n",
              "      <td>../input/covid19-ct-scans/lung_mask/radiopaedi...</td>\n",
              "      <td>../input/covid19-ct-scans/infection_mask/radio...</td>\n",
              "      <td>../input/covid19-ct-scans/lung_and_infection_m...</td>\n",
              "    </tr>\n",
              "    <tr>\n",
              "      <th>11</th>\n",
              "      <td>../input/covid19-ct-scans/ct_scans/radiopaedia...</td>\n",
              "      <td>../input/covid19-ct-scans/lung_mask/radiopaedi...</td>\n",
              "      <td>../input/covid19-ct-scans/infection_mask/radio...</td>\n",
              "      <td>../input/covid19-ct-scans/lung_and_infection_m...</td>\n",
              "    </tr>\n",
              "    <tr>\n",
              "      <th>12</th>\n",
              "      <td>../input/covid19-ct-scans/ct_scans/radiopaedia...</td>\n",
              "      <td>../input/covid19-ct-scans/lung_mask/radiopaedi...</td>\n",
              "      <td>../input/covid19-ct-scans/infection_mask/radio...</td>\n",
              "      <td>../input/covid19-ct-scans/lung_and_infection_m...</td>\n",
              "    </tr>\n",
              "    <tr>\n",
              "      <th>13</th>\n",
              "      <td>../input/covid19-ct-scans/ct_scans/radiopaedia...</td>\n",
              "      <td>../input/covid19-ct-scans/lung_mask/radiopaedi...</td>\n",
              "      <td>../input/covid19-ct-scans/infection_mask/radio...</td>\n",
              "      <td>../input/covid19-ct-scans/lung_and_infection_m...</td>\n",
              "    </tr>\n",
              "    <tr>\n",
              "      <th>14</th>\n",
              "      <td>../input/covid19-ct-scans/ct_scans/radiopaedia...</td>\n",
              "      <td>../input/covid19-ct-scans/lung_mask/radiopaedi...</td>\n",
              "      <td>../input/covid19-ct-scans/infection_mask/radio...</td>\n",
              "      <td>../input/covid19-ct-scans/lung_and_infection_m...</td>\n",
              "    </tr>\n",
              "    <tr>\n",
              "      <th>15</th>\n",
              "      <td>../input/covid19-ct-scans/ct_scans/radiopaedia...</td>\n",
              "      <td>../input/covid19-ct-scans/lung_mask/radiopaedi...</td>\n",
              "      <td>../input/covid19-ct-scans/infection_mask/radio...</td>\n",
              "      <td>../input/covid19-ct-scans/lung_and_infection_m...</td>\n",
              "    </tr>\n",
              "    <tr>\n",
              "      <th>16</th>\n",
              "      <td>../input/covid19-ct-scans/ct_scans/radiopaedia...</td>\n",
              "      <td>../input/covid19-ct-scans/lung_mask/radiopaedi...</td>\n",
              "      <td>../input/covid19-ct-scans/infection_mask/radio...</td>\n",
              "      <td>../input/covid19-ct-scans/lung_and_infection_m...</td>\n",
              "    </tr>\n",
              "    <tr>\n",
              "      <th>17</th>\n",
              "      <td>../input/covid19-ct-scans/ct_scans/radiopaedia...</td>\n",
              "      <td>../input/covid19-ct-scans/lung_mask/radiopaedi...</td>\n",
              "      <td>../input/covid19-ct-scans/infection_mask/radio...</td>\n",
              "      <td>../input/covid19-ct-scans/lung_and_infection_m...</td>\n",
              "    </tr>\n",
              "    <tr>\n",
              "      <th>18</th>\n",
              "      <td>../input/covid19-ct-scans/ct_scans/radiopaedia...</td>\n",
              "      <td>../input/covid19-ct-scans/lung_mask/radiopaedi...</td>\n",
              "      <td>../input/covid19-ct-scans/infection_mask/radio...</td>\n",
              "      <td>../input/covid19-ct-scans/lung_and_infection_m...</td>\n",
              "    </tr>\n",
              "    <tr>\n",
              "      <th>19</th>\n",
              "      <td>../input/covid19-ct-scans/ct_scans/radiopaedia...</td>\n",
              "      <td>../input/covid19-ct-scans/lung_mask/radiopaedi...</td>\n",
              "      <td>../input/covid19-ct-scans/infection_mask/radio...</td>\n",
              "      <td>../input/covid19-ct-scans/lung_and_infection_m...</td>\n",
              "    </tr>\n",
              "  </tbody>\n",
              "</table>\n",
              "</div>\n",
              "      <button class=\"colab-df-convert\" onclick=\"convertToInteractive('df-5c3bf0e6-65e6-424f-9922-908db6ab257f')\"\n",
              "              title=\"Convert this dataframe to an interactive table.\"\n",
              "              style=\"display:none;\">\n",
              "        \n",
              "  <svg xmlns=\"http://www.w3.org/2000/svg\" height=\"24px\"viewBox=\"0 0 24 24\"\n",
              "       width=\"24px\">\n",
              "    <path d=\"M0 0h24v24H0V0z\" fill=\"none\"/>\n",
              "    <path d=\"M18.56 5.44l.94 2.06.94-2.06 2.06-.94-2.06-.94-.94-2.06-.94 2.06-2.06.94zm-11 1L8.5 8.5l.94-2.06 2.06-.94-2.06-.94L8.5 2.5l-.94 2.06-2.06.94zm10 10l.94 2.06.94-2.06 2.06-.94-2.06-.94-.94-2.06-.94 2.06-2.06.94z\"/><path d=\"M17.41 7.96l-1.37-1.37c-.4-.4-.92-.59-1.43-.59-.52 0-1.04.2-1.43.59L10.3 9.45l-7.72 7.72c-.78.78-.78 2.05 0 2.83L4 21.41c.39.39.9.59 1.41.59.51 0 1.02-.2 1.41-.59l7.78-7.78 2.81-2.81c.8-.78.8-2.07 0-2.86zM5.41 20L4 18.59l7.72-7.72 1.47 1.35L5.41 20z\"/>\n",
              "  </svg>\n",
              "      </button>\n",
              "      \n",
              "  <style>\n",
              "    .colab-df-container {\n",
              "      display:flex;\n",
              "      flex-wrap:wrap;\n",
              "      gap: 12px;\n",
              "    }\n",
              "\n",
              "    .colab-df-convert {\n",
              "      background-color: #E8F0FE;\n",
              "      border: none;\n",
              "      border-radius: 50%;\n",
              "      cursor: pointer;\n",
              "      display: none;\n",
              "      fill: #1967D2;\n",
              "      height: 32px;\n",
              "      padding: 0 0 0 0;\n",
              "      width: 32px;\n",
              "    }\n",
              "\n",
              "    .colab-df-convert:hover {\n",
              "      background-color: #E2EBFA;\n",
              "      box-shadow: 0px 1px 2px rgba(60, 64, 67, 0.3), 0px 1px 3px 1px rgba(60, 64, 67, 0.15);\n",
              "      fill: #174EA6;\n",
              "    }\n",
              "\n",
              "    [theme=dark] .colab-df-convert {\n",
              "      background-color: #3B4455;\n",
              "      fill: #D2E3FC;\n",
              "    }\n",
              "\n",
              "    [theme=dark] .colab-df-convert:hover {\n",
              "      background-color: #434B5C;\n",
              "      box-shadow: 0px 1px 3px 1px rgba(0, 0, 0, 0.15);\n",
              "      filter: drop-shadow(0px 1px 2px rgba(0, 0, 0, 0.3));\n",
              "      fill: #FFFFFF;\n",
              "    }\n",
              "  </style>\n",
              "\n",
              "      <script>\n",
              "        const buttonEl =\n",
              "          document.querySelector('#df-5c3bf0e6-65e6-424f-9922-908db6ab257f button.colab-df-convert');\n",
              "        buttonEl.style.display =\n",
              "          google.colab.kernel.accessAllowed ? 'block' : 'none';\n",
              "\n",
              "        async function convertToInteractive(key) {\n",
              "          const element = document.querySelector('#df-5c3bf0e6-65e6-424f-9922-908db6ab257f');\n",
              "          const dataTable =\n",
              "            await google.colab.kernel.invokeFunction('convertToInteractive',\n",
              "                                                     [key], {});\n",
              "          if (!dataTable) return;\n",
              "\n",
              "          const docLinkHtml = 'Like what you see? Visit the ' +\n",
              "            '<a target=\"_blank\" href=https://colab.research.google.com/notebooks/data_table.ipynb>data table notebook</a>'\n",
              "            + ' to learn more about interactive tables.';\n",
              "          element.innerHTML = '';\n",
              "          dataTable['output_type'] = 'display_data';\n",
              "          await google.colab.output.renderOutput(dataTable, element);\n",
              "          const docLink = document.createElement('div');\n",
              "          docLink.innerHTML = docLinkHtml;\n",
              "          element.appendChild(docLink);\n",
              "        }\n",
              "      </script>\n",
              "    </div>\n",
              "  </div>\n",
              "  "
            ]
          },
          "metadata": {},
          "execution_count": 111
        }
      ]
    },
    {
      "cell_type": "code",
      "metadata": {
        "id": "wFMkwcT45b9e"
      },
      "source": [
        "CT_scans=Glob(\"ct_scans/\")\n",
        "Mask_scan=Glob(\"infection_mask/\")"
      ],
      "execution_count": null,
      "outputs": []
    },
    {
      "cell_type": "code",
      "metadata": {
        "colab": {
          "base_uri": "https://localhost:8080/",
          "height": 575
        },
        "id": "Zj9O-gyz71_R",
        "outputId": "1ff44f27-e13d-4343-9559-be12a4af9a23"
      },
      "source": [
        "img=read_ct(CT_scans[10])\n",
        "mask=read_ct(Mask_scan[10])\n",
        "print(img.shape)\n",
        "print(mask.shape)\n",
        "plt.imshow(img[...,24],cmap='gray')\n",
        "plt.figure()\n",
        "plt.imshow(mask[...,24],cmap='gray')"
      ],
      "execution_count": null,
      "outputs": [
        {
          "output_type": "stream",
          "name": "stdout",
          "text": [
            "(630, 630, 42)\n",
            "(512, 512, 200)\n"
          ]
        },
        {
          "output_type": "execute_result",
          "data": {
            "text/plain": [
              "<matplotlib.image.AxesImage at 0x7fcb9416ef50>"
            ]
          },
          "metadata": {},
          "execution_count": 113
        },
        {
          "output_type": "display_data",
          "data": {
            "text/plain": [
              "<Figure size 432x288 with 1 Axes>"
            ],
            "image/png": "[encoded data removed]"
          },
          "metadata": {
            "needs_background": "light"
          }
        },
        {
          "output_type": "display_data",
          "data": {
            "text/plain": [
              "<Figure size 432x288 with 1 Axes>"
            ],
            "image/png": "[encoded data removed]"
          },
          "metadata": {
            "needs_background": "light"
          }
        }
      ]
    },
    {
      "cell_type": "code",
      "metadata": {
        "id": "PsR5gWB6TY4B"
      },
      "source": [
        "CT = []\n",
        "Mask = []\n",
        "img_size =128\n",
        "\n",
        "\n",
        "\n",
        "\n",
        "for case in range(len(data)): #Concat all cases to list\n",
        "    ct = read_ct(CT_scans[case])\n",
        "    mask = read_ct(Mask_scan[case])\n",
        "    \n",
        "    for imgsize in range(35):        \n",
        "        ct_img = cv2.resize(ct[..., imgsize], dsize = (img_size, img_size),interpolation = cv2.INTER_AREA).astype('uint8')\n",
        "        mask_img = cv2.resize(mask[...,imgsize],dsize=(img_size, img_size),interpolation = cv2.INTER_AREA).astype('uint8')\n",
        "        CT.append(ct_img[np.newaxis,...])\n",
        "        Mask.append(mask_img[np.newaxis,...])"
      ],
      "execution_count": null,
      "outputs": []
    },
    {
      "cell_type": "code",
      "metadata": {
        "id": "oPSP0YK6UT37"
      },
      "source": [
        "CT=np.array(CT)\n",
        "Mask=np.array(Mask)\n",
        "mins = CT.min(axis=(1,2,3), keepdims=True)\n",
        "maxs = CT.max(axis=(1,2,3), keepdims=True)\n",
        "norm_data = (CT-mins)/(maxs-mins)"
      ],
      "execution_count": null,
      "outputs": []
    },
    {
      "cell_type": "code",
      "metadata": {
        "id": "pZKAJuJo5nfD"
      },
      "source": [
        "class CT_dataset(Dataset):\n",
        "    def __init__(self, CT,Mask):\n",
        "        self.ct_scans =CT\n",
        "        self.mask_scan = Mask\n",
        "\n",
        "    def __len__(self):\n",
        "        return len(self.ct_scans)\n",
        "\n",
        "    def __getitem__(self, idx):\n",
        "        ct=self.ct_scans[idx]\n",
        "        masks=self.mask_scan[idx]\n",
        "        return ct,masks\n",
        "    def collate_fn(self, batch):\n",
        "        ims, masks = list(zip(*batch))\n",
        "        ims = torch.cat([torch.tensor(im.copy()[None]) for im in ims]).float().to(device)\n",
        "        ce_masks = torch.cat([torch.tensor(mask.copy()[None]) for mask in masks]).float().to(device)\n",
        "        return ims, ce_masks"
      ],
      "execution_count": null,
      "outputs": []
    },
    {
      "cell_type": "code",
      "metadata": {
        "id": "9ZfnMf7n_k6k"
      },
      "source": [
        "from sklearn.model_selection import train_test_split\n",
        "x_train,x_test,y_train,y_test=train_test_split(norm_data,Mask,test_size=0.2,random_state=42)"
      ],
      "execution_count": null,
      "outputs": []
    },
    {
      "cell_type": "code",
      "metadata": {
        "id": "uooKdXuZBaEg"
      },
      "source": [
        "train_dataset=CT_dataset(x_train,y_train)\n",
        "test_dataset=CT_dataset(x_test,y_test)"
      ],
      "execution_count": null,
      "outputs": []
    },
    {
      "cell_type": "code",
      "metadata": {
        "id": "rvhdl6yp0rLD"
      },
      "source": [
        "train_dl=torch.utils.data.DataLoader(train_dataset,batch_size=16,shuffle=True,collate_fn=train_dataset.collate_fn)\n",
        "valid_dl=torch.utils.data.DataLoader(test_dataset,batch_size=1,shuffle=False,collate_fn=test_dataset.collate_fn)\n"
      ],
      "execution_count": null,
      "outputs": []
    },
    {
      "cell_type": "code",
      "metadata": {
        "colab": {
          "base_uri": "https://localhost:8080/",
          "height": 573
        },
        "id": "CMjnT4clJ2Vb",
        "outputId": "603a07f6-17bb-4da2-9868-75edc3892e15"
      },
      "source": [
        "image,label=train_dataset[:200]\n",
        "print(image.shape)\n",
        "print(label.shape)\n",
        "plt.imshow(image[160].squeeze(0))\n",
        "plt.figure()\n",
        "plt.imshow(label[160].squeeze(0))"
      ],
      "execution_count": null,
      "outputs": [
        {
          "output_type": "stream",
          "name": "stdout",
          "text": [
            "(200, 1, 128, 128)\n",
            "(200, 1, 128, 128)\n"
          ]
        },
        {
          "output_type": "execute_result",
          "data": {
            "text/plain": [
              "<matplotlib.image.AxesImage at 0x7fcb943273d0>"
            ]
          },
          "metadata": {},
          "execution_count": 120
        },
        {
          "output_type": "display_data",
          "data": {
            "text/plain": [
              "<Figure size 432x288 with 1 Axes>"
            ],
            "image/png": "[encoded data removed]"
          },
          "metadata": {
            "needs_background": "light"
          }
        },
        {
          "output_type": "display_data",
          "data": {
            "text/plain": [
              "<Figure size 432x288 with 1 Axes>"
            ],
            "image/png": "[encoded data removed]"
          },
          "metadata": {
            "needs_background": "light"
          }
        }
      ]
    },
    {
      "cell_type": "code",
      "metadata": {
        "colab": {
          "base_uri": "https://localhost:8080/"
        },
        "id": "gTDScFd3WrLz",
        "outputId": "a5e6c34f-a4cc-4c22-8d9b-258d10dfb0d3"
      },
      "source": [
        "len(train_dataset)"
      ],
      "execution_count": null,
      "outputs": [
        {
          "output_type": "execute_result",
          "data": {
            "text/plain": [
              "560"
            ]
          },
          "metadata": {},
          "execution_count": 121
        }
      ]
    },
    {
      "cell_type": "code",
      "metadata": {
        "id": "og7k7bhzDjtS"
      },
      "source": [
        "from torch import nn \n",
        "import torchvision\n",
        "import torch.nn.functional as F"
      ],
      "execution_count": null,
      "outputs": []
    },
    {
      "cell_type": "code",
      "metadata": {
        "id": "QjeBM8P2Cl5S"
      },
      "source": [
        "def conv(in_channels, out_channels):\n",
        "    return nn.Sequential(\n",
        "        nn.Conv2d(in_channels, out_channels, kernel_size=(3,3),padding=1),\n",
        "        nn.BatchNorm2d(out_channels),\n",
        "        nn.ReLU(inplace=True)\n",
        "    )\n",
        "def up_conv(in_channels, out_channels):\n",
        "    return nn.Sequential(\n",
        "        nn.ConvTranspose2d(in_channels, out_channels, kernel_size=2, stride=2),\n",
        "        nn.BatchNorm2d(out_channels),\n",
        "        nn.ReLU(inplace=True)\n",
        "    )\n",
        "def dilate_conv(in_channels, out_channels,dilation):\n",
        "  return nn.Sequential(\n",
        "        nn.Conv2d(in_channels, out_channels, kernel_size=(3,3), padding=1,dilation=dilation),\n",
        "        nn.BatchNorm2d(out_channels),\n",
        "        nn.ReLU(inplace=True)\n",
        "    )"
      ],
      "execution_count": null,
      "outputs": []
    },
    {
      "cell_type": "code",
      "metadata": {
        "id": "xtoJtUxmCn6g"
      },
      "source": [
        "from torchvision.models import vgg16_bn\n",
        "class tinyUNet(nn.Module):\n",
        "    def __init__(self, pretrained=True, out_channels=1):\n",
        "        super().__init__()\n",
        "        self.block1=conv(1,64)\n",
        "        self.block2=conv(64,64)\n",
        "        self.block3=conv(64,128)\n",
        "        self.block4=conv(128,128)\n",
        "        self.block5=conv(128,256)\n",
        "        self.block6=conv(256,256)\n",
        "        self.block7=conv(256,512)\n",
        "        self.block8=conv(512,512)\n",
        "        self.block9=conv(512,1024)\n",
        "        self.maxpool=nn.MaxPool2d(kernel_size=(2,2),stride=2,padding=0,dilation=1,ceil_mode=False)\n",
        "        self.up_conv6 = up_conv(1024, 512)\n",
        "        self.conv6 = conv(512 + 512, 512)\n",
        "        self.up_conv7 = up_conv(512, 256)\n",
        "        self.conv7 = conv(256+256,256)\n",
        "        self.up_conv8 = up_conv(128+128, 128)\n",
        "        self.conv8 = conv(128 + 128, 128)\n",
        "        self.up_conv9 = up_conv(128, 64)\n",
        "        self.conv9 = conv(64 +64, 64)\n",
        "        self.up_conv10 = up_conv(64, 32)\n",
        "        self.conv10 = conv(32 + 64, 32)\n",
        "        self.conv11 = nn.Conv2d(64, out_channels, kernel_size=1,padding=\"same\")\n",
        "        self.sigmoid=nn.Sigmoid()\n",
        "    def forward(self, x):\n",
        "        block1 = self.block1(x)\n",
        "        block2 = self.maxpool(self.block2(block1))\n",
        "        block3 = self.block3(block2)\n",
        "        block4 = self.maxpool(self.block4(block3))\n",
        "        block5 = self.block5(block4)\n",
        "        block6 = self.maxpool(self.block6(block5))\n",
        "        block7 = self.block7(block6)\n",
        "        block8 = self.maxpool(self.block8(block7))\n",
        "        block9=self.block9(block8)\n",
        "\n",
        "        x4 = self.up_conv6(block9)\n",
        "        x4 = torch.cat([x4,block7],dim=1)\n",
        "        x4=self.conv6(x4)\n",
        "        x3 = self.up_conv7(x4)\n",
        "        \n",
        "        x3 = torch.cat([x3, block5], dim=1)\n",
        "        x3 = self.conv7(x3)\n",
        "\n",
        "        x2 = self.up_conv8(x3)\n",
        "        x2 = torch.cat([x2, block3], dim=1)\n",
        "        x2 = self.conv8(x2)\n",
        "\n",
        "        x1 = self.up_conv9(x2)\n",
        "        x1 = torch.cat([x1, block1], dim=1)\n",
        "        x1 = self.conv9(x1)\n",
        "\n",
        "        #x = self.up_conv10(x1)\n",
        "        #x = torch.cat([x, block1], dim=1)\n",
        "        #x = self.conv10(x)\n",
        "\n",
        "        x = self.sigmoid(self.conv11(x1))\n",
        "\n",
        "        return x"
      ],
      "execution_count": null,
      "outputs": []
    },
    {
      "cell_type": "code",
      "metadata": {
        "id": "LIBZmSvwDwgm"
      },
      "source": [
        "def dice_coeff(preds,targets):\n",
        "  smooth=1.\n",
        "  preds=preds.flatten()\n",
        "  targets=targets.flatten()\n",
        "  intersection=(preds*targets).sum().float()\n",
        "  dice=(2*intersection+smooth)/(preds.sum()+targets.sum()+smooth)\n",
        "  return dice\n",
        "ce = nn.BCELoss()\n",
        "def UnetLoss(preds, targets):\n",
        "  ce_loss = ce(preds, targets)\n",
        "  dice=dice_coeff(preds,targets)\n",
        "  dice_loss=1-dice\n",
        "  loss=ce_loss+dice_loss\n",
        "  acc=dice\n",
        "  return loss, acc"
      ],
      "execution_count": null,
      "outputs": []
    },
    {
      "cell_type": "code",
      "metadata": {
        "id": "xhOCSvjHDzu_"
      },
      "source": [
        "def train_batch(model, data, optimizer, criterion):\n",
        "    model.train()\n",
        "    ims, ce_masks = data\n",
        "    _masks = model(ims)\n",
        "    optimizer.zero_grad()\n",
        "    loss, acc = criterion(_masks, ce_masks)\n",
        "    loss.backward()\n",
        "    optimizer.step()\n",
        "    return loss.item(), acc.item()\n",
        "\n",
        "@torch.no_grad()\n",
        "def validate_batch(model, data, criterion):\n",
        "    model.eval()\n",
        "    ims, masks = data\n",
        "    _masks = model(ims)\n",
        "    loss, acc = criterion(_masks,masks)\n",
        "    return loss.item(), acc.item()"
      ],
      "execution_count": null,
      "outputs": []
    },
    {
      "cell_type": "code",
      "metadata": {
        "id": "VGiyZtcTD16O"
      },
      "source": [
        "model =tinyUNet().to(device)\n",
        "criterion = UnetLoss\n",
        "optimizer = torch.optim.Adam(model.parameters(), lr=1e-3,weight_decay=1e-5)\n",
        "n_epochs = 20"
      ],
      "execution_count": null,
      "outputs": []
    },
    {
      "cell_type": "code",
      "metadata": {
        "colab": {
          "base_uri": "https://localhost:8080/"
        },
        "id": "tl7kIm3bIxo9",
        "outputId": "27809566-bc0e-41f8-e207-a506604f5b6a"
      },
      "source": [
        "from torchsummary import summary\n",
        "summary(model,(1,128,128))"
      ],
      "execution_count": null,
      "outputs": [
        {
          "output_type": "stream",
          "name": "stdout",
          "text": [
            "----------------------------------------------------------------\n",
            "        Layer (type)               Output Shape         Param #\n",
            "================================================================\n",
            "            Conv2d-1         [-1, 64, 128, 128]             640\n",
            "       BatchNorm2d-2         [-1, 64, 128, 128]             128\n",
            "              ReLU-3         [-1, 64, 128, 128]               0\n",
            "            Conv2d-4         [-1, 64, 128, 128]          36,928\n",
            "       BatchNorm2d-5         [-1, 64, 128, 128]             128\n",
            "              ReLU-6         [-1, 64, 128, 128]               0\n",
            "         MaxPool2d-7           [-1, 64, 64, 64]               0\n",
            "            Conv2d-8          [-1, 128, 64, 64]          73,856\n",
            "       BatchNorm2d-9          [-1, 128, 64, 64]             256\n",
            "             ReLU-10          [-1, 128, 64, 64]               0\n",
            "           Conv2d-11          [-1, 128, 64, 64]         147,584\n",
            "      BatchNorm2d-12          [-1, 128, 64, 64]             256\n",
            "             ReLU-13          [-1, 128, 64, 64]               0\n",
            "        MaxPool2d-14          [-1, 128, 32, 32]               0\n",
            "           Conv2d-15          [-1, 256, 32, 32]         295,168\n",
            "      BatchNorm2d-16          [-1, 256, 32, 32]             512\n",
            "             ReLU-17          [-1, 256, 32, 32]               0\n",
            "           Conv2d-18          [-1, 256, 32, 32]         590,080\n",
            "      BatchNorm2d-19          [-1, 256, 32, 32]             512\n",
            "             ReLU-20          [-1, 256, 32, 32]               0\n",
            "        MaxPool2d-21          [-1, 256, 16, 16]               0\n",
            "           Conv2d-22          [-1, 512, 16, 16]       1,180,160\n",
            "      BatchNorm2d-23          [-1, 512, 16, 16]           1,024\n",
            "             ReLU-24          [-1, 512, 16, 16]               0\n",
            "           Conv2d-25          [-1, 512, 16, 16]       2,359,808\n",
            "      BatchNorm2d-26          [-1, 512, 16, 16]           1,024\n",
            "             ReLU-27          [-1, 512, 16, 16]               0\n",
            "        MaxPool2d-28            [-1, 512, 8, 8]               0\n",
            "           Conv2d-29           [-1, 1024, 8, 8]       4,719,616\n",
            "      BatchNorm2d-30           [-1, 1024, 8, 8]           2,048\n",
            "             ReLU-31           [-1, 1024, 8, 8]               0\n",
            "  ConvTranspose2d-32          [-1, 512, 16, 16]       2,097,664\n",
            "      BatchNorm2d-33          [-1, 512, 16, 16]           1,024\n",
            "             ReLU-34          [-1, 512, 16, 16]               0\n",
            "           Conv2d-35          [-1, 512, 16, 16]       4,719,104\n",
            "      BatchNorm2d-36          [-1, 512, 16, 16]           1,024\n",
            "             ReLU-37          [-1, 512, 16, 16]               0\n",
            "  ConvTranspose2d-38          [-1, 256, 32, 32]         524,544\n",
            "      BatchNorm2d-39          [-1, 256, 32, 32]             512\n",
            "             ReLU-40          [-1, 256, 32, 32]               0\n",
            "           Conv2d-41          [-1, 256, 32, 32]       1,179,904\n",
            "      BatchNorm2d-42          [-1, 256, 32, 32]             512\n",
            "             ReLU-43          [-1, 256, 32, 32]               0\n",
            "  ConvTranspose2d-44          [-1, 128, 64, 64]         131,200\n",
            "      BatchNorm2d-45          [-1, 128, 64, 64]             256\n",
            "             ReLU-46          [-1, 128, 64, 64]               0\n",
            "           Conv2d-47          [-1, 128, 64, 64]         295,040\n",
            "      BatchNorm2d-48          [-1, 128, 64, 64]             256\n",
            "             ReLU-49          [-1, 128, 64, 64]               0\n",
            "  ConvTranspose2d-50         [-1, 64, 128, 128]          32,832\n",
            "      BatchNorm2d-51         [-1, 64, 128, 128]             128\n",
            "             ReLU-52         [-1, 64, 128, 128]               0\n",
            "           Conv2d-53         [-1, 64, 128, 128]          73,792\n",
            "      BatchNorm2d-54         [-1, 64, 128, 128]             128\n",
            "             ReLU-55         [-1, 64, 128, 128]               0\n",
            "           Conv2d-56          [-1, 1, 128, 128]              65\n",
            "          Sigmoid-57          [-1, 1, 128, 128]               0\n",
            "================================================================\n",
            "Total params: 18,467,713\n",
            "Trainable params: 18,467,713\n",
            "Non-trainable params: 0\n",
            "----------------------------------------------------------------\n",
            "Input size (MB): 0.06\n",
            "Forward/backward pass size (MB): 185.50\n",
            "Params size (MB): 70.45\n",
            "Estimated Total Size (MB): 256.01\n",
            "----------------------------------------------------------------\n"
          ]
        }
      ]
    },
    {
      "cell_type": "code",
      "metadata": {
        "colab": {
          "base_uri": "https://localhost:8080/"
        },
        "id": "aTkQzPQREXQE",
        "outputId": "e223a651-4f66-4940-d6c0-35914f794f73"
      },
      "source": [
        "log = Report(n_epochs)\n",
        "for ex in range(n_epochs):\n",
        "    N = len(train_dl)\n",
        "    for bx, data in enumerate(train_dl):\n",
        "        loss, acc = train_batch(model, data, optimizer, criterion)\n",
        "        log.record(ex+(bx+1)/N, trn_loss=loss, trn_acc=acc, end='\\r')\n",
        "\n",
        "    N = len(valid_dl)\n",
        "    for bx, data in enumerate(valid_dl):\n",
        "        loss, acc = validate_batch(model, data, criterion)\n",
        "        log.record(ex+(bx+1)/N, val_loss=loss, val_acc=acc, end='\\r')\n",
        "        \n",
        "    log.report_avgs(ex+1)"
      ],
      "execution_count": null,
      "outputs": [
        {
          "output_type": "stream",
          "name": "stdout",
          "text": [
            "EPOCH: 1.000\ttrn_loss: 1.361\ttrn_acc: 0.011\tval_loss: 1.274\tval_acc: 0.011\t(7.76s - 147.49s remaining)\n",
            "EPOCH: 2.000\ttrn_loss: 1.168\ttrn_acc: 0.010\tval_loss: 1.112\tval_acc: 0.010\t(15.60s - 140.44s remaining)\n",
            "EPOCH: 3.000\ttrn_loss: 1.094\ttrn_acc: 0.011\tval_loss: 1.071\tval_acc: 0.009\t(23.60s - 133.75s remaining)\n",
            "EPOCH: 4.000\ttrn_loss: 1.055\ttrn_acc: 0.021\tval_loss: 1.054\tval_acc: 0.021\t(31.72s - 126.89s remaining)\n",
            "EPOCH: 5.000\ttrn_loss: 1.023\ttrn_acc: 0.040\tval_loss: 1.174\tval_acc: 0.021\t(39.75s - 119.26s remaining)\n",
            "EPOCH: 6.000\ttrn_loss: 1.004\ttrn_acc: 0.049\tval_loss: 1.048\tval_acc: 0.028\t(47.66s - 111.20s remaining)\n",
            "EPOCH: 7.000\ttrn_loss: 0.976\ttrn_acc: 0.070\tval_loss: 1.049\tval_acc: 0.040\t(55.46s - 103.00s remaining)\n",
            "EPOCH: 8.000\ttrn_loss: 0.933\ttrn_acc: 0.109\tval_loss: 1.003\tval_acc: 0.041\t(63.29s - 94.93s remaining)\n",
            "EPOCH: 9.000\ttrn_loss: 0.885\ttrn_acc: 0.150\tval_loss: 0.997\tval_acc: 0.041\t(71.02s - 86.81s remaining)\n",
            "EPOCH: 10.000\ttrn_loss: 0.855\ttrn_acc: 0.180\tval_loss: 0.984\tval_acc: 0.066\t(78.74s - 78.74s remaining)\n",
            "EPOCH: 11.000\ttrn_loss: 0.805\ttrn_acc: 0.229\tval_loss: 0.991\tval_acc: 0.059\t(86.49s - 70.76s remaining)\n",
            "EPOCH: 12.000\ttrn_loss: 0.765\ttrn_acc: 0.269\tval_loss: 0.930\tval_acc: 0.107\t(94.27s - 62.84s remaining)\n",
            "EPOCH: 13.000\ttrn_loss: 0.748\ttrn_acc: 0.287\tval_loss: 0.920\tval_acc: 0.118\t(102.06s - 54.95s remaining)\n",
            "EPOCH: 14.000\ttrn_loss: 0.726\ttrn_acc: 0.308\tval_loss: 0.871\tval_acc: 0.165\t(109.88s - 47.09s remaining)\n",
            "EPOCH: 15.000\ttrn_loss: 0.666\ttrn_acc: 0.367\tval_loss: 0.823\tval_acc: 0.215\t(117.73s - 39.24s remaining)\n",
            "EPOCH: 16.000\ttrn_loss: 0.682\ttrn_acc: 0.353\tval_loss: 0.811\tval_acc: 0.227\t(125.58s - 31.40s remaining)\n",
            "EPOCH: 17.000\ttrn_loss: 0.671\ttrn_acc: 0.362\tval_loss: 0.696\tval_acc: 0.341\t(133.43s - 23.55s remaining)\n",
            "EPOCH: 18.000\ttrn_loss: 0.630\ttrn_acc: 0.404\tval_loss: 0.743\tval_acc: 0.294\t(141.25s - 15.69s remaining)\n",
            "EPOCH: 19.000\ttrn_loss: 0.623\ttrn_acc: 0.410\tval_loss: 0.697\tval_acc: 0.340\t(149.08s - 7.85s remaining)\n",
            "EPOCH: 20.000\ttrn_loss: 0.608\ttrn_acc: 0.424\tval_loss: 0.669\tval_acc: 0.367\t(156.90s - 0.00s remaining)\n"
          ]
        }
      ]
    },
    {
      "cell_type": "code",
      "source": [
        "PATH = \"state_dict_model.pt\"\n",
        "torch.save(model.state_dict(), PATH)\n"
      ],
      "metadata": {
        "id": "2d15jWxmBuVf"
      },
      "execution_count": null,
      "outputs": []
    },
    {
      "cell_type": "code",
      "metadata": {
        "id": "C0hi4slqRamL"
      },
      "source": [
        "valid_dl=torch.utils.data.DataLoader(test_dataset,batch_size=1,shuffle=True,collate_fn=test_dataset.collate_fn)\n"
      ],
      "execution_count": null,
      "outputs": []
    },
    {
      "cell_type": "code",
      "metadata": {
        "colab": {
          "base_uri": "https://localhost:8080/",
          "height": 537
        },
        "id": "QbG2pGbL4oWS",
        "outputId": "3c8ce7dd-e9db-4ada-c044-33355b132077"
      },
      "source": [
        "img,mask=next(iter(valid_dl))\n",
        "pimg=img[0].squeeze(0).detach().cpu().numpy()\n",
        "_mask=model(img)\n",
        "plt.imshow(pimg,cmap=\"gray\")\n",
        "plt.imshow(_mask[0].squeeze(0).cpu().detach().numpy(),cmap=\"jet\",alpha=0.4)\n",
        "plt.figure()\n",
        "\n",
        "plt.imshow(mask[0].squeeze(0).cpu().detach().numpy(),cmap=\"gray\")\n",
        "\n"
      ],
      "execution_count": null,
      "outputs": [
        {
          "output_type": "execute_result",
          "data": {
            "text/plain": [
              "<matplotlib.image.AxesImage at 0x7fca98b06f10>"
            ]
          },
          "metadata": {},
          "execution_count": 163
        },
        {
          "output_type": "display_data",
          "data": {
            "text/plain": [
              "<Figure size 432x288 with 1 Axes>"
            ],
            "image/png": "[encoded data removed]"
          },
          "metadata": {
            "needs_background": "light"
          }
        },
        {
          "output_type": "display_data",
          "data": {
            "text/plain": [
              "<Figure size 432x288 with 1 Axes>"
            ],
            "image/png": "[encoded data removed]"
          },
          "metadata": {
            "needs_background": "light"
          }
        }
      ]
    },
    {
      "cell_type": "code",
      "source": [
        "!pip install dash-bootstrap-components\n",
        "!pip install dash-daq"
      ],
      "metadata": {
        "colab": {
          "base_uri": "https://localhost:8080/"
        },
        "id": "-KSCitDkEwhv",
        "outputId": "ae2078dc-9f67-4945-affb-a3dbcab540bc"
      },
      "execution_count": null,
      "outputs": [
        {
          "output_type": "stream",
          "name": "stdout",
          "text": [
            "Looking in indexes: https://pypi.org/simple, https://us-python.pkg.dev/colab-wheels/public/simple/\n",
            "Collecting dash-bootstrap-components\n",
            "  Downloading dash_bootstrap_components-1.2.0-py3-none-any.whl (216 kB)\n",
            "\u001b[K     |████████████████████████████████| 216 kB 4.9 MB/s \n",
            "\u001b[?25hRequirement already satisfied: dash>=2.0.0 in /usr/local/lib/python3.7/dist-packages (from dash-bootstrap-components) (2.5.1)\n",
            "Requirement already satisfied: Flask>=1.0.4 in /usr/local/lib/python3.7/dist-packages (from dash>=2.0.0->dash-bootstrap-components) (1.1.4)\n",
            "Requirement already satisfied: flask-compress in /usr/local/lib/python3.7/dist-packages (from dash>=2.0.0->dash-bootstrap-components) (1.12)\n",
            "Requirement already satisfied: dash-core-components==2.0.0 in /usr/local/lib/python3.7/dist-packages (from dash>=2.0.0->dash-bootstrap-components) (2.0.0)\n",
            "Requirement already satisfied: plotly>=5.0.0 in /usr/local/lib/python3.7/dist-packages (from dash>=2.0.0->dash-bootstrap-components) (5.5.0)\n",
            "Requirement already satisfied: dash-html-components==2.0.0 in /usr/local/lib/python3.7/dist-packages (from dash>=2.0.0->dash-bootstrap-components) (2.0.0)\n",
            "Requirement already satisfied: dash-table==5.0.0 in /usr/local/lib/python3.7/dist-packages (from dash>=2.0.0->dash-bootstrap-components) (5.0.0)\n",
            "Requirement already satisfied: itsdangerous<2.0,>=0.24 in /usr/local/lib/python3.7/dist-packages (from Flask>=1.0.4->dash>=2.0.0->dash-bootstrap-components) (1.1.0)\n",
            "Requirement already satisfied: click<8.0,>=5.1 in /usr/local/lib/python3.7/dist-packages (from Flask>=1.0.4->dash>=2.0.0->dash-bootstrap-components) (7.1.2)\n",
            "Requirement already satisfied: Werkzeug<2.0,>=0.15 in /usr/local/lib/python3.7/dist-packages (from Flask>=1.0.4->dash>=2.0.0->dash-bootstrap-components) (1.0.1)\n",
            "Requirement already satisfied: Jinja2<3.0,>=2.10.1 in /usr/local/lib/python3.7/dist-packages (from Flask>=1.0.4->dash>=2.0.0->dash-bootstrap-components) (2.11.3)\n",
            "Requirement already satisfied: MarkupSafe>=0.23 in /usr/local/lib/python3.7/dist-packages (from Jinja2<3.0,>=2.10.1->Flask>=1.0.4->dash>=2.0.0->dash-bootstrap-components) (2.0.1)\n",
            "Requirement already satisfied: tenacity>=6.2.0 in /usr/local/lib/python3.7/dist-packages (from plotly>=5.0.0->dash>=2.0.0->dash-bootstrap-components) (8.0.1)\n",
            "Requirement already satisfied: six in /usr/local/lib/python3.7/dist-packages (from plotly>=5.0.0->dash>=2.0.0->dash-bootstrap-components) (1.15.0)\n",
            "Requirement already satisfied: brotli in /usr/local/lib/python3.7/dist-packages (from flask-compress->dash>=2.0.0->dash-bootstrap-components) (1.0.9)\n",
            "Installing collected packages: dash-bootstrap-components\n",
            "Successfully installed dash-bootstrap-components-1.2.0\n",
            "Looking in indexes: https://pypi.org/simple, https://us-python.pkg.dev/colab-wheels/public/simple/\n",
            "Collecting dash-daq\n",
            "  Downloading dash_daq-0.5.0.tar.gz (642 kB)\n",
            "\u001b[K     |████████████████████████████████| 642 kB 4.9 MB/s \n",
            "\u001b[?25hRequirement already satisfied: dash>=1.6.1 in /usr/local/lib/python3.7/dist-packages (from dash-daq) (2.5.1)\n",
            "Requirement already satisfied: dash-html-components==2.0.0 in /usr/local/lib/python3.7/dist-packages (from dash>=1.6.1->dash-daq) (2.0.0)\n",
            "Requirement already satisfied: Flask>=1.0.4 in /usr/local/lib/python3.7/dist-packages (from dash>=1.6.1->dash-daq) (1.1.4)\n",
            "Requirement already satisfied: dash-core-components==2.0.0 in /usr/local/lib/python3.7/dist-packages (from dash>=1.6.1->dash-daq) (2.0.0)\n",
            "Requirement already satisfied: dash-table==5.0.0 in /usr/local/lib/python3.7/dist-packages (from dash>=1.6.1->dash-daq) (5.0.0)\n",
            "Requirement already satisfied: plotly>=5.0.0 in /usr/local/lib/python3.7/dist-packages (from dash>=1.6.1->dash-daq) (5.5.0)\n",
            "Requirement already satisfied: flask-compress in /usr/local/lib/python3.7/dist-packages (from dash>=1.6.1->dash-daq) (1.12)\n",
            "Requirement already satisfied: Jinja2<3.0,>=2.10.1 in /usr/local/lib/python3.7/dist-packages (from Flask>=1.0.4->dash>=1.6.1->dash-daq) (2.11.3)\n",
            "Requirement already satisfied: click<8.0,>=5.1 in /usr/local/lib/python3.7/dist-packages (from Flask>=1.0.4->dash>=1.6.1->dash-daq) (7.1.2)\n",
            "Requirement already satisfied: itsdangerous<2.0,>=0.24 in /usr/local/lib/python3.7/dist-packages (from Flask>=1.0.4->dash>=1.6.1->dash-daq) (1.1.0)\n",
            "Requirement already satisfied: Werkzeug<2.0,>=0.15 in /usr/local/lib/python3.7/dist-packages (from Flask>=1.0.4->dash>=1.6.1->dash-daq) (1.0.1)\n",
            "Requirement already satisfied: MarkupSafe>=0.23 in /usr/local/lib/python3.7/dist-packages (from Jinja2<3.0,>=2.10.1->Flask>=1.0.4->dash>=1.6.1->dash-daq) (2.0.1)\n",
            "Requirement already satisfied: tenacity>=6.2.0 in /usr/local/lib/python3.7/dist-packages (from plotly>=5.0.0->dash>=1.6.1->dash-daq) (8.0.1)\n",
            "Requirement already satisfied: six in /usr/local/lib/python3.7/dist-packages (from plotly>=5.0.0->dash>=1.6.1->dash-daq) (1.15.0)\n",
            "Requirement already satisfied: brotli in /usr/local/lib/python3.7/dist-packages (from flask-compress->dash>=1.6.1->dash-daq) (1.0.9)\n",
            "Building wheels for collected packages: dash-daq\n",
            "  Building wheel for dash-daq (setup.py) ... \u001b[?25l\u001b[?25hdone\n",
            "  Created wheel for dash-daq: filename=dash_daq-0.5.0-py3-none-any.whl size=669714 sha256=d5219cae014917e2a07230a5f867450d6cf884931445a257e7c8485710823c08\n",
            "  Stored in directory: /root/.cache/pip/wheels/fe/54/53/a8d448db5592874db4313240571ca2c069e55f6a6b29bf5847\n",
            "Successfully built dash-daq\n",
            "Installing collected packages: dash-daq\n",
            "Successfully installed dash-daq-0.5.0\n"
          ]
        }
      ]
    },
    {
      "cell_type": "code",
      "source": [
        "!pip install dash-canvas\n"
      ],
      "metadata": {
        "colab": {
          "base_uri": "https://localhost:8080/"
        },
        "id": "d4q7FqCzJwvV",
        "outputId": "8dd5ce23-7fec-4154-83ab-75e02778db99"
      },
      "execution_count": null,
      "outputs": [
        {
          "output_type": "stream",
          "name": "stdout",
          "text": [
            "Looking in indexes: https://pypi.org/simple, https://us-python.pkg.dev/colab-wheels/public/simple/\n",
            "Collecting dash-canvas\n",
            "  Downloading dash_canvas-0.1.0.tar.gz (737 kB)\n",
            "\u001b[K     |████████████████████████████████| 737 kB 5.3 MB/s \n",
            "\u001b[?25hRequirement already satisfied: dash>=1.6.1 in /usr/local/lib/python3.7/dist-packages (from dash-canvas) (2.5.1)\n",
            "Requirement already satisfied: scikit-image in /usr/local/lib/python3.7/dist-packages (from dash-canvas) (0.18.3)\n",
            "Requirement already satisfied: Pillow in /usr/local/lib/python3.7/dist-packages (from dash-canvas) (7.1.2)\n",
            "Requirement already satisfied: scikit-learn in /usr/local/lib/python3.7/dist-packages (from dash-canvas) (1.0.2)\n",
            "Requirement already satisfied: dash-core-components==2.0.0 in /usr/local/lib/python3.7/dist-packages (from dash>=1.6.1->dash-canvas) (2.0.0)\n",
            "Requirement already satisfied: flask-compress in /usr/local/lib/python3.7/dist-packages (from dash>=1.6.1->dash-canvas) (1.12)\n",
            "Requirement already satisfied: dash-html-components==2.0.0 in /usr/local/lib/python3.7/dist-packages (from dash>=1.6.1->dash-canvas) (2.0.0)\n",
            "Requirement already satisfied: plotly>=5.0.0 in /usr/local/lib/python3.7/dist-packages (from dash>=1.6.1->dash-canvas) (5.5.0)\n",
            "Requirement already satisfied: Flask>=1.0.4 in /usr/local/lib/python3.7/dist-packages (from dash>=1.6.1->dash-canvas) (1.1.4)\n",
            "Requirement already satisfied: dash-table==5.0.0 in /usr/local/lib/python3.7/dist-packages (from dash>=1.6.1->dash-canvas) (5.0.0)\n",
            "Requirement already satisfied: Werkzeug<2.0,>=0.15 in /usr/local/lib/python3.7/dist-packages (from Flask>=1.0.4->dash>=1.6.1->dash-canvas) (1.0.1)\n",
            "Requirement already satisfied: click<8.0,>=5.1 in /usr/local/lib/python3.7/dist-packages (from Flask>=1.0.4->dash>=1.6.1->dash-canvas) (7.1.2)\n",
            "Requirement already satisfied: itsdangerous<2.0,>=0.24 in /usr/local/lib/python3.7/dist-packages (from Flask>=1.0.4->dash>=1.6.1->dash-canvas) (1.1.0)\n",
            "Requirement already satisfied: Jinja2<3.0,>=2.10.1 in /usr/local/lib/python3.7/dist-packages (from Flask>=1.0.4->dash>=1.6.1->dash-canvas) (2.11.3)\n",
            "Requirement already satisfied: MarkupSafe>=0.23 in /usr/local/lib/python3.7/dist-packages (from Jinja2<3.0,>=2.10.1->Flask>=1.0.4->dash>=1.6.1->dash-canvas) (2.0.1)\n",
            "Requirement already satisfied: tenacity>=6.2.0 in /usr/local/lib/python3.7/dist-packages (from plotly>=5.0.0->dash>=1.6.1->dash-canvas) (8.0.1)\n",
            "Requirement already satisfied: six in /usr/local/lib/python3.7/dist-packages (from plotly>=5.0.0->dash>=1.6.1->dash-canvas) (1.15.0)\n",
            "Requirement already satisfied: brotli in /usr/local/lib/python3.7/dist-packages (from flask-compress->dash>=1.6.1->dash-canvas) (1.0.9)\n",
            "Requirement already satisfied: matplotlib!=3.0.0,>=2.0.0 in /usr/local/lib/python3.7/dist-packages (from scikit-image->dash-canvas) (3.2.2)\n",
            "Requirement already satisfied: scipy>=1.0.1 in /usr/local/lib/python3.7/dist-packages (from scikit-image->dash-canvas) (1.4.1)\n",
            "Requirement already satisfied: imageio>=2.3.0 in /usr/local/lib/python3.7/dist-packages (from scikit-image->dash-canvas) (2.4.1)\n",
            "Requirement already satisfied: networkx>=2.0 in /usr/local/lib/python3.7/dist-packages (from scikit-image->dash-canvas) (2.6.3)\n",
            "Requirement already satisfied: PyWavelets>=1.1.1 in /usr/local/lib/python3.7/dist-packages (from scikit-image->dash-canvas) (1.3.0)\n",
            "Requirement already satisfied: numpy>=1.16.5 in /usr/local/lib/python3.7/dist-packages (from scikit-image->dash-canvas) (1.21.6)\n",
            "Requirement already satisfied: tifffile>=2019.7.26 in /usr/local/lib/python3.7/dist-packages (from scikit-image->dash-canvas) (2021.11.2)\n",
            "Requirement already satisfied: python-dateutil>=2.1 in /usr/local/lib/python3.7/dist-packages (from matplotlib!=3.0.0,>=2.0.0->scikit-image->dash-canvas) (2.8.2)\n",
            "Requirement already satisfied: pyparsing!=2.0.4,!=2.1.2,!=2.1.6,>=2.0.1 in /usr/local/lib/python3.7/dist-packages (from matplotlib!=3.0.0,>=2.0.0->scikit-image->dash-canvas) (3.0.9)\n",
            "Requirement already satisfied: kiwisolver>=1.0.1 in /usr/local/lib/python3.7/dist-packages (from matplotlib!=3.0.0,>=2.0.0->scikit-image->dash-canvas) (1.4.3)\n",
            "Requirement already satisfied: cycler>=0.10 in /usr/local/lib/python3.7/dist-packages (from matplotlib!=3.0.0,>=2.0.0->scikit-image->dash-canvas) (0.11.0)\n",
            "Requirement already satisfied: typing-extensions in /usr/local/lib/python3.7/dist-packages (from kiwisolver>=1.0.1->matplotlib!=3.0.0,>=2.0.0->scikit-image->dash-canvas) (4.1.1)\n",
            "Requirement already satisfied: threadpoolctl>=2.0.0 in /usr/local/lib/python3.7/dist-packages (from scikit-learn->dash-canvas) (3.1.0)\n",
            "Requirement already satisfied: joblib>=0.11 in /usr/local/lib/python3.7/dist-packages (from scikit-learn->dash-canvas) (1.1.0)\n",
            "Building wheels for collected packages: dash-canvas\n",
            "  Building wheel for dash-canvas (setup.py) ... \u001b[?25l\u001b[?25hdone\n",
            "  Created wheel for dash-canvas: filename=dash_canvas-0.1.0-py3-none-any.whl size=745346 sha256=70831c2fbc615a861953876a9e252972156b04a3f4301512113e81eb0c8860e3\n",
            "  Stored in directory: /root/.cache/pip/wheels/82/4d/c5/f0cec1a0ce8d7930976eccca658a39c9e3a3c62867ff575f09\n",
            "Successfully built dash-canvas\n",
            "Installing collected packages: dash-canvas\n",
            "Successfully installed dash-canvas-0.1.0\n"
          ]
        }
      ]
    },
    {
      "cell_type": "code",
      "metadata": {
        "id": "cRAG-F8sNQBu"
      },
      "source": [
        "import cv2 \n",
        "import numpy as np \n",
        "from jupyter_dash import JupyterDash\n",
        "from dash import dcc,html\n",
        "import dash \n",
        "from dash_canvas import DashCanvas\n",
        "from dash_canvas.utils import array_to_data_url,parse_jsonstring\n",
        "import dash_daq\n",
        "import dash_bootstrap_components as dbc\n",
        "import plotly.express as px\n"
      ],
      "execution_count": null,
      "outputs": []
    },
    {
      "cell_type": "code",
      "metadata": {
        "id": "TAW5EpyBSpPh",
        "colab": {
          "base_uri": "https://localhost:8080/"
        },
        "outputId": "2a62e4ab-618d-446a-8135-b6257ebb3d37"
      },
      "source": [
        "PATH = \"state_dict_model.pt\"\n",
        "model = tinyUNet().to(device)\n",
        "model.load_state_dict(torch.load(PATH))\n",
        "model.eval()"
      ],
      "execution_count": null,
      "outputs": [
        {
          "output_type": "execute_result",
          "data": {
            "text/plain": [
              "tinyUNet(\n",
              "  (block1): Sequential(\n",
              "    (0): Conv2d(1, 64, kernel_size=(3, 3), stride=(1, 1), padding=(1, 1))\n",
              "    (1): BatchNorm2d(64, eps=1e-05, momentum=0.1, affine=True, track_running_stats=True)\n",
              "    (2): ReLU(inplace=True)\n",
              "  )\n",
              "  (block2): Sequential(\n",
              "    (0): Conv2d(64, 64, kernel_size=(3, 3), stride=(1, 1), padding=(1, 1))\n",
              "    (1): BatchNorm2d(64, eps=1e-05, momentum=0.1, affine=True, track_running_stats=True)\n",
              "    (2): ReLU(inplace=True)\n",
              "  )\n",
              "  (block3): Sequential(\n",
              "    (0): Conv2d(64, 128, kernel_size=(3, 3), stride=(1, 1), padding=(1, 1))\n",
              "    (1): BatchNorm2d(128, eps=1e-05, momentum=0.1, affine=True, track_running_stats=True)\n",
              "    (2): ReLU(inplace=True)\n",
              "  )\n",
              "  (block4): Sequential(\n",
              "    (0): Conv2d(128, 128, kernel_size=(3, 3), stride=(1, 1), padding=(1, 1))\n",
              "    (1): BatchNorm2d(128, eps=1e-05, momentum=0.1, affine=True, track_running_stats=True)\n",
              "    (2): ReLU(inplace=True)\n",
              "  )\n",
              "  (block5): Sequential(\n",
              "    (0): Conv2d(128, 256, kernel_size=(3, 3), stride=(1, 1), padding=(1, 1))\n",
              "    (1): BatchNorm2d(256, eps=1e-05, momentum=0.1, affine=True, track_running_stats=True)\n",
              "    (2): ReLU(inplace=True)\n",
              "  )\n",
              "  (block6): Sequential(\n",
              "    (0): Conv2d(256, 256, kernel_size=(3, 3), stride=(1, 1), padding=(1, 1))\n",
              "    (1): BatchNorm2d(256, eps=1e-05, momentum=0.1, affine=True, track_running_stats=True)\n",
              "    (2): ReLU(inplace=True)\n",
              "  )\n",
              "  (block7): Sequential(\n",
              "    (0): Conv2d(256, 512, kernel_size=(3, 3), stride=(1, 1), padding=(1, 1))\n",
              "    (1): BatchNorm2d(512, eps=1e-05, momentum=0.1, affine=True, track_running_stats=True)\n",
              "    (2): ReLU(inplace=True)\n",
              "  )\n",
              "  (block8): Sequential(\n",
              "    (0): Conv2d(512, 512, kernel_size=(3, 3), stride=(1, 1), padding=(1, 1))\n",
              "    (1): BatchNorm2d(512, eps=1e-05, momentum=0.1, affine=True, track_running_stats=True)\n",
              "    (2): ReLU(inplace=True)\n",
              "  )\n",
              "  (block9): Sequential(\n",
              "    (0): Conv2d(512, 1024, kernel_size=(3, 3), stride=(1, 1), padding=(1, 1))\n",
              "    (1): BatchNorm2d(1024, eps=1e-05, momentum=0.1, affine=True, track_running_stats=True)\n",
              "    (2): ReLU(inplace=True)\n",
              "  )\n",
              "  (maxpool): MaxPool2d(kernel_size=(2, 2), stride=2, padding=0, dilation=1, ceil_mode=False)\n",
              "  (up_conv6): Sequential(\n",
              "    (0): ConvTranspose2d(1024, 512, kernel_size=(2, 2), stride=(2, 2))\n",
              "    (1): BatchNorm2d(512, eps=1e-05, momentum=0.1, affine=True, track_running_stats=True)\n",
              "    (2): ReLU(inplace=True)\n",
              "  )\n",
              "  (conv6): Sequential(\n",
              "    (0): Conv2d(1024, 512, kernel_size=(3, 3), stride=(1, 1), padding=(1, 1))\n",
              "    (1): BatchNorm2d(512, eps=1e-05, momentum=0.1, affine=True, track_running_stats=True)\n",
              "    (2): ReLU(inplace=True)\n",
              "  )\n",
              "  (up_conv7): Sequential(\n",
              "    (0): ConvTranspose2d(512, 256, kernel_size=(2, 2), stride=(2, 2))\n",
              "    (1): BatchNorm2d(256, eps=1e-05, momentum=0.1, affine=True, track_running_stats=True)\n",
              "    (2): ReLU(inplace=True)\n",
              "  )\n",
              "  (conv7): Sequential(\n",
              "    (0): Conv2d(512, 256, kernel_size=(3, 3), stride=(1, 1), padding=(1, 1))\n",
              "    (1): BatchNorm2d(256, eps=1e-05, momentum=0.1, affine=True, track_running_stats=True)\n",
              "    (2): ReLU(inplace=True)\n",
              "  )\n",
              "  (up_conv8): Sequential(\n",
              "    (0): ConvTranspose2d(256, 128, kernel_size=(2, 2), stride=(2, 2))\n",
              "    (1): BatchNorm2d(128, eps=1e-05, momentum=0.1, affine=True, track_running_stats=True)\n",
              "    (2): ReLU(inplace=True)\n",
              "  )\n",
              "  (conv8): Sequential(\n",
              "    (0): Conv2d(256, 128, kernel_size=(3, 3), stride=(1, 1), padding=(1, 1))\n",
              "    (1): BatchNorm2d(128, eps=1e-05, momentum=0.1, affine=True, track_running_stats=True)\n",
              "    (2): ReLU(inplace=True)\n",
              "  )\n",
              "  (up_conv9): Sequential(\n",
              "    (0): ConvTranspose2d(128, 64, kernel_size=(2, 2), stride=(2, 2))\n",
              "    (1): BatchNorm2d(64, eps=1e-05, momentum=0.1, affine=True, track_running_stats=True)\n",
              "    (2): ReLU(inplace=True)\n",
              "  )\n",
              "  (conv9): Sequential(\n",
              "    (0): Conv2d(128, 64, kernel_size=(3, 3), stride=(1, 1), padding=(1, 1))\n",
              "    (1): BatchNorm2d(64, eps=1e-05, momentum=0.1, affine=True, track_running_stats=True)\n",
              "    (2): ReLU(inplace=True)\n",
              "  )\n",
              "  (up_conv10): Sequential(\n",
              "    (0): ConvTranspose2d(64, 32, kernel_size=(2, 2), stride=(2, 2))\n",
              "    (1): BatchNorm2d(32, eps=1e-05, momentum=0.1, affine=True, track_running_stats=True)\n",
              "    (2): ReLU(inplace=True)\n",
              "  )\n",
              "  (conv10): Sequential(\n",
              "    (0): Conv2d(96, 32, kernel_size=(3, 3), stride=(1, 1), padding=(1, 1))\n",
              "    (1): BatchNorm2d(32, eps=1e-05, momentum=0.1, affine=True, track_running_stats=True)\n",
              "    (2): ReLU(inplace=True)\n",
              "  )\n",
              "  (conv11): Conv2d(64, 1, kernel_size=(1, 1), stride=(1, 1), padding=same)\n",
              "  (sigmoid): Sigmoid()\n",
              ")"
            ]
          },
          "metadata": {},
          "execution_count": 190
        }
      ]
    },
    {
      "cell_type": "code",
      "source": [
        "def predict(img):\n",
        "  img,mask=next(iter(valid_dl))\n",
        "  pimg=img[0].squeeze(0).detach().cpu().numpy()\n",
        "  _mask=model(img)\n",
        "  return img,_mask"
      ],
      "metadata": {
        "id": "X2aqnFqRKR1T"
      },
      "execution_count": null,
      "outputs": []
    },
    {
      "cell_type": "code",
      "source": [
        "def threshold_image(img,min_value,max_value):\n",
        "    ret,thresh=cv2.threshold(img,min_value,max_value,cv2.THRESH_OTSU)\n",
        "    return thresh"
      ],
      "metadata": {
        "id": "0YbPMxHDK7I-"
      },
      "execution_count": null,
      "outputs": []
    },
    {
      "cell_type": "code",
      "source": [
        "app=JupyterDash(__name__,external_stylesheets=[dbc.themes.DARKLY])"
      ],
      "metadata": {
        "id": "bJ3SSj1LK6K2"
      },
      "execution_count": null,
      "outputs": []
    },
    {
      "cell_type": "code",
      "source": [
        "from torch._C import Graph\n",
        "\n",
        "SIDEBAR_STYLE = {\n",
        "    \"position\": \"fixed\",\n",
        "    \"top\": 0,\n",
        "    \"left\": 0,\n",
        "    \"bottom\": 0,\n",
        "    \"width\": \"25rem\",\n",
        "    \"padding\": \"2rem 1rem\",\n",
        "}\n",
        "CONTENT_STYLE = {\n",
        "    \"margin-left\": \"30rem\",\n",
        "    \"margin-right\": \"10rem\",\n",
        "    \"padding\": \"2rem 1rem\",\n",
        "}\n",
        "app.layout=html.Div([\n",
        "    \n",
        "    html.H4(\"Brain cancer detection Image system\"),\n",
        "    html.Div([\n",
        "    dcc.Graph(id=\"image_annotion\",figure=px.imshow(255*pimg.astype(\"float64\"),binary_string=True)),\n",
        "    html.Div(id=\"thresh\"),\n",
        "\n",
        "\n",
        "    ],style=CONTENT_STYLE\n",
        "),\n",
        "    \n",
        "    html.Div([\n",
        "        html.H5(\"Treshold Values\"),\n",
        "        dcc.RangeSlider(0,255,50,value=[50,100],id=\"thresh_range\"),\n",
        "        html.H5(\"Brush _width\"),\n",
        "        dcc.Slider(0,30,value=10,id=\"brus_width\"),\n",
        "        html.Button(\"Pred\",id=\"pred_button\"),\n",
        "             html.Div(id=\"pred_part\"),],\n",
        "             style=SIDEBAR_STYLE)])\n",
        "\n",
        "@app.callback(dash.dependencies.Output(\"pred_part\",\"children\"),\n",
        "              dash.dependencies.Input(\"pred_button\",\"n_clicks\"))\n",
        "def show_pred(n_clicks):\n",
        "    if n_clicks>0:\n",
        "        pred,img=\n",
        "@app.callback(dash.dependencies.Output(\"thresh\",\"children\"),\n",
        "              dash.dependencies.Input(\"thresh_range\",\"value\"))\n",
        "def threshold(value):\n",
        "    min_v,max_value=value[0],value[-1]\n",
        "    img=threshold_image(pimg,min_v ,max_value)\n",
        "    return html.Img(src=array_to_data_url(img),width=400)\n",
        "\n",
        "  \n"
      ],
      "metadata": {
        "id": "cqAfZYcqKwc-"
      },
      "execution_count": null,
      "outputs": []
    },
    {
      "cell_type": "code",
      "source": [
        "app.run_server(mode=\"external\",port=8881)"
      ],
      "metadata": {
        "colab": {
          "base_uri": "https://localhost:8080/",
          "height": 53
        },
        "id": "OzIenyqWLPDN",
        "outputId": "ba18d50e-11a0-4c84-9b04-3e32897a2bc0"
      },
      "execution_count": null,
      "outputs": [
        {
          "output_type": "stream",
          "name": "stdout",
          "text": [
            "Dash app running on:\n"
          ]
        },
        {
          "output_type": "display_data",
          "data": {
            "text/plain": [
              "<IPython.core.display.Javascript object>"
            ],
            "application/javascript": [
              "(async (port, path, text, element) => {\n",
              "    if (!google.colab.kernel.accessAllowed) {\n",
              "      return;\n",
              "    }\n",
              "    element.appendChild(document.createTextNode(''));\n",
              "    const url = await google.colab.kernel.proxyPort(port);\n",
              "    const anchor = document.createElement('a');\n",
              "    anchor.href = new URL(path, url).toString();\n",
              "    anchor.target = '_blank';\n",
              "    anchor.setAttribute('data-href', url + path);\n",
              "    anchor.textContent = text;\n",
              "    element.appendChild(anchor);\n",
              "  })(8881, \"/\", \"http://127.0.0.1:8881/\", window.element)"
            ]
          },
          "metadata": {}
        }
      ]
    },
    {
      "cell_type": "code",
      "source": [
        ""
      ],
      "metadata": {
        "id": "iQ7I_lifL0Y7"
      },
      "execution_count": null,
      "outputs": []
    }
  ]
}